{
  "nbformat": 4,
  "nbformat_minor": 0,
  "metadata": {
    "colab": {
      "provenance": [],
      "authorship_tag": "ABX9TyMp3+FOKzU0Chj3QybJkaib",
      "include_colab_link": true
    },
    "kernelspec": {
      "name": "python3",
      "display_name": "Python 3"
    },
    "language_info": {
      "name": "python"
    }
  },
  "cells": [
    {
      "cell_type": "markdown",
      "metadata": {
        "id": "view-in-github",
        "colab_type": "text"
      },
      "source": [
        "<a href=\"https://colab.research.google.com/github/jeff-ai-ml/ai-python-basic-programs/blob/main/numpy_programs.ipynb\" target=\"_parent\"><img src=\"https://colab.research.google.com/assets/colab-badge.svg\" alt=\"Open In Colab\"/></a>"
      ]
    },
    {
      "cell_type": "code",
      "execution_count": 3,
      "metadata": {
        "colab": {
          "base_uri": "https://localhost:8080/"
        },
        "id": "-UEZDLcjp76O",
        "outputId": "71d8859d-abf3-47b1-e455-ebc4a435511c"
      },
      "outputs": [
        {
          "output_type": "stream",
          "name": "stdout",
          "text": [
            "[4 3 5 7 8]\n",
            "(5,)\n",
            "1\n"
          ]
        }
      ],
      "source": [
        "#create a one dimentional array (rank1 tenser) from the list of elements\n",
        "\n",
        "import numpy as np\n",
        "\n",
        "l = [4,3,5,7,8]\n",
        "\n",
        "arr = np.array(l)\n",
        "\n",
        "print(arr)\n",
        "\n",
        "print(arr.shape)\n",
        "\n",
        "print(arr.ndim)"
      ]
    },
    {
      "cell_type": "code",
      "source": [
        "#🔹 2. Create arrays of zeros, ones, and a constant\n",
        "\n",
        "zeros = np.zeros((2,3))\n",
        "ones = np.ones((3,4))\n",
        "fives = np.full((2,4), 5)\n",
        "\n",
        "print(zeros)\n",
        "print(ones)\n",
        "print(fives)"
      ],
      "metadata": {
        "colab": {
          "base_uri": "https://localhost:8080/"
        },
        "id": "wH8ZO_0SvJrG",
        "outputId": "da4b51d3-24c8-4ada-812d-64bd4609f8d5"
      },
      "execution_count": 11,
      "outputs": [
        {
          "output_type": "stream",
          "name": "stdout",
          "text": [
            "[[0. 0. 0.]\n",
            " [0. 0. 0.]]\n",
            "[[1. 1. 1. 1.]\n",
            " [1. 1. 1. 1.]\n",
            " [1. 1. 1. 1.]]\n",
            "[[5 5 5 5]\n",
            " [5 5 5 5]]\n"
          ]
        }
      ]
    },
    {
      "cell_type": "code",
      "source": [
        "#🔹 3. Create an array of even numbers from 2 to 20\n",
        "\n",
        "evens = np.arange(2,21,2)\n",
        "\n",
        "print(evens)"
      ],
      "metadata": {
        "colab": {
          "base_uri": "https://localhost:8080/"
        },
        "id": "UYJWETr4_buB",
        "outputId": "aaea2977-422b-4a0c-cd70-325afd3868d8"
      },
      "execution_count": 14,
      "outputs": [
        {
          "output_type": "stream",
          "name": "stdout",
          "text": [
            "[ 2  4  6  8 10 12 14 16 18 20]\n"
          ]
        }
      ]
    },
    {
      "cell_type": "code",
      "source": [
        "#🔹 4. Reshape a 1D array into a 2D array\n",
        "\n",
        "arr = np.arange(1,13, 1)\n",
        "\n",
        "print(arr)\n",
        "\n",
        "arr_reshape = arr.reshape(3,4)\n",
        "\n",
        "print(arr_reshape)"
      ],
      "metadata": {
        "colab": {
          "base_uri": "https://localhost:8080/"
        },
        "id": "XJVnC79I_xwJ",
        "outputId": "a3f4c224-e295-48f4-fbd1-c1d564649740"
      },
      "execution_count": 19,
      "outputs": [
        {
          "output_type": "stream",
          "name": "stdout",
          "text": [
            "[ 1  2  3  4  5  6  7  8  9 10 11 12]\n",
            "[[ 1  2  3  4]\n",
            " [ 5  6  7  8]\n",
            " [ 9 10 11 12]]\n"
          ]
        }
      ]
    },
    {
      "cell_type": "code",
      "source": [],
      "metadata": {
        "id": "6PTChEcx-lL-"
      },
      "execution_count": null,
      "outputs": []
    }
  ]
}